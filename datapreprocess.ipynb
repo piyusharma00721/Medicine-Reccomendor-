{
 "cells": [
  {
   "cell_type": "code",
   "execution_count": 1,
   "id": "5b169f63-1888-43ad-8174-96b749522c56",
   "metadata": {},
   "outputs": [],
   "source": [
    "import pandas as pd \n",
    "import numpy as np\n",
    "#as of now data imputation is not necessary but i can do it if its needed"
   ]
  },
  {
   "cell_type": "code",
   "execution_count": 2,
   "id": "748ebe0a-6042-4c80-b543-6c1cec1c75a1",
   "metadata": {},
   "outputs": [],
   "source": [
    "med = pd.read_csv('data/medicines.csv')"
   ]
  },
  {
   "cell_type": "code",
   "execution_count": 3,
   "id": "72f8c8f6-6669-425b-9848-70fdcb645daf",
   "metadata": {},
   "outputs": [],
   "source": [
    "patient = pd.read_csv('data/patients.csv')"
   ]
  },
  {
   "cell_type": "code",
   "execution_count": 4,
   "id": "fb71f159-021e-41e6-8048-d0462e71da84",
   "metadata": {},
   "outputs": [
    {
     "name": "stdout",
     "output_type": "stream",
     "text": [
      "<class 'pandas.core.frame.DataFrame'>\n",
      "RangeIndex: 349 entries, 0 to 348\n",
      "Data columns (total 14 columns):\n",
      " #   Column                Non-Null Count  Dtype \n",
      "---  ------                --------------  ----- \n",
      " 0   Disease               349 non-null    object\n",
      " 1   Fever                 349 non-null    object\n",
      " 2   Cough                 349 non-null    object\n",
      " 3   Fatigue               349 non-null    object\n",
      " 4   symptom               349 non-null    object\n",
      " 5   Difficulty Breathing  349 non-null    object\n",
      " 6   age_group             349 non-null    object\n",
      " 7   Age                   349 non-null    int64 \n",
      " 8   Gender                349 non-null    object\n",
      " 9   Blood Pressure        349 non-null    object\n",
      " 10  Cholesterol Level     349 non-null    object\n",
      " 11  Outcome Variable      349 non-null    object\n",
      " 12  medicine              349 non-null    object\n",
      " 13  dosage                349 non-null    object\n",
      "dtypes: int64(1), object(13)\n",
      "memory usage: 38.3+ KB\n"
     ]
    }
   ],
   "source": [
    "med.info()"
   ]
  },
  {
   "cell_type": "code",
   "execution_count": 5,
   "id": "b758ff98-8068-4354-902b-6b0ec5504753",
   "metadata": {
    "scrolled": true
   },
   "outputs": [
    {
     "name": "stdout",
     "output_type": "stream",
     "text": [
      "<class 'pandas.core.frame.DataFrame'>\n",
      "RangeIndex: 349 entries, 0 to 348\n",
      "Data columns (total 8 columns):\n",
      " #   Column                Non-Null Count  Dtype \n",
      "---  ------                --------------  ----- \n",
      " 0   name                  349 non-null    int64 \n",
      " 1   age                   349 non-null    object\n",
      " 2   sex                   349 non-null    object\n",
      " 3   blood_group           349 non-null    object\n",
      " 4   medical_history       348 non-null    object\n",
      " 5   symptoms              349 non-null    object\n",
      " 6   duration              349 non-null    int64 \n",
      " 7   medicine_recommended  349 non-null    object\n",
      "dtypes: int64(2), object(6)\n",
      "memory usage: 21.9+ KB\n"
     ]
    }
   ],
   "source": [
    "patient.info()"
   ]
  },
  {
   "cell_type": "code",
   "execution_count": null,
   "id": "5543d220-76f7-4d80-b712-f1e280a49ec2",
   "metadata": {},
   "outputs": [],
   "source": []
  }
 ],
 "metadata": {
  "kernelspec": {
   "display_name": "Python 3 (ipykernel)",
   "language": "python",
   "name": "python3"
  },
  "language_info": {
   "codemirror_mode": {
    "name": "ipython",
    "version": 3
   },
   "file_extension": ".py",
   "mimetype": "text/x-python",
   "name": "python",
   "nbconvert_exporter": "python",
   "pygments_lexer": "ipython3",
   "version": "3.11.9"
  },
  "widgets": {
   "application/vnd.jupyter.widget-state+json": {
    "state": {},
    "version_major": 2,
    "version_minor": 0
   }
  }
 },
 "nbformat": 4,
 "nbformat_minor": 5
}
